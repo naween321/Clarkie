{
 "cells": [
  {
   "cell_type": "code",
   "execution_count": 22,
   "metadata": {},
   "outputs": [
    {
     "name": "stdout",
     "output_type": "stream",
     "text": [
      "Requirement already satisfied: google-cloud-aiplatform in /Users/johnwatson/Documents/A Grad School/Hackathon/Clarkie/.conda/lib/python3.10/site-packages (1.85.0)\n",
      "Requirement already satisfied: google-api-core!=2.0.*,!=2.1.*,!=2.2.*,!=2.3.*,!=2.4.*,!=2.5.*,!=2.6.*,!=2.7.*,<3.0.0,>=1.34.1 in /Users/johnwatson/Documents/A Grad School/Hackathon/Clarkie/.conda/lib/python3.10/site-packages (from google-api-core[grpc]!=2.0.*,!=2.1.*,!=2.2.*,!=2.3.*,!=2.4.*,!=2.5.*,!=2.6.*,!=2.7.*,<3.0.0,>=1.34.1->google-cloud-aiplatform) (2.24.2)\n",
      "Requirement already satisfied: google-auth<3.0.0,>=2.14.1 in /Users/johnwatson/Documents/A Grad School/Hackathon/Clarkie/.conda/lib/python3.10/site-packages (from google-cloud-aiplatform) (2.38.0)\n",
      "Requirement already satisfied: proto-plus<2.0.0,>=1.22.3 in /Users/johnwatson/Documents/A Grad School/Hackathon/Clarkie/.conda/lib/python3.10/site-packages (from google-cloud-aiplatform) (1.26.1)\n",
      "Requirement already satisfied: protobuf!=4.21.0,!=4.21.1,!=4.21.2,!=4.21.3,!=4.21.4,!=4.21.5,<6.0.0,>=3.20.2 in /Users/johnwatson/Documents/A Grad School/Hackathon/Clarkie/.conda/lib/python3.10/site-packages (from google-cloud-aiplatform) (4.25.6)\n",
      "Requirement already satisfied: packaging>=14.3 in /Users/johnwatson/Documents/A Grad School/Hackathon/Clarkie/.conda/lib/python3.10/site-packages (from google-cloud-aiplatform) (23.2)\n",
      "Requirement already satisfied: google-cloud-storage<3.0.0,>=1.32.0 in /Users/johnwatson/Documents/A Grad School/Hackathon/Clarkie/.conda/lib/python3.10/site-packages (from google-cloud-aiplatform) (2.19.0)\n",
      "Requirement already satisfied: google-cloud-bigquery!=3.20.0,<4.0.0,>=1.15.0 in /Users/johnwatson/Documents/A Grad School/Hackathon/Clarkie/.conda/lib/python3.10/site-packages (from google-cloud-aiplatform) (3.30.0)\n",
      "Requirement already satisfied: google-cloud-resource-manager<3.0.0,>=1.3.3 in /Users/johnwatson/Documents/A Grad School/Hackathon/Clarkie/.conda/lib/python3.10/site-packages (from google-cloud-aiplatform) (1.14.2)\n",
      "Requirement already satisfied: shapely<3.0.0 in /Users/johnwatson/Documents/A Grad School/Hackathon/Clarkie/.conda/lib/python3.10/site-packages (from google-cloud-aiplatform) (2.0.7)\n",
      "Requirement already satisfied: pydantic<3 in /Users/johnwatson/Documents/A Grad School/Hackathon/Clarkie/.conda/lib/python3.10/site-packages (from google-cloud-aiplatform) (2.10.6)\n",
      "Requirement already satisfied: typing-extensions in /Users/johnwatson/Documents/A Grad School/Hackathon/Clarkie/.conda/lib/python3.10/site-packages (from google-cloud-aiplatform) (4.12.2)\n",
      "Requirement already satisfied: docstring-parser<1 in /Users/johnwatson/Documents/A Grad School/Hackathon/Clarkie/.conda/lib/python3.10/site-packages (from google-cloud-aiplatform) (0.16)\n",
      "Requirement already satisfied: googleapis-common-protos<2.0.0,>=1.56.2 in /Users/johnwatson/Documents/A Grad School/Hackathon/Clarkie/.conda/lib/python3.10/site-packages (from google-api-core!=2.0.*,!=2.1.*,!=2.2.*,!=2.3.*,!=2.4.*,!=2.5.*,!=2.6.*,!=2.7.*,<3.0.0,>=1.34.1->google-api-core[grpc]!=2.0.*,!=2.1.*,!=2.2.*,!=2.3.*,!=2.4.*,!=2.5.*,!=2.6.*,!=2.7.*,<3.0.0,>=1.34.1->google-cloud-aiplatform) (1.69.2)\n",
      "Requirement already satisfied: requests<3.0.0,>=2.18.0 in /Users/johnwatson/Documents/A Grad School/Hackathon/Clarkie/.conda/lib/python3.10/site-packages (from google-api-core!=2.0.*,!=2.1.*,!=2.2.*,!=2.3.*,!=2.4.*,!=2.5.*,!=2.6.*,!=2.7.*,<3.0.0,>=1.34.1->google-api-core[grpc]!=2.0.*,!=2.1.*,!=2.2.*,!=2.3.*,!=2.4.*,!=2.5.*,!=2.6.*,!=2.7.*,<3.0.0,>=1.34.1->google-cloud-aiplatform) (2.32.3)\n",
      "Requirement already satisfied: grpcio<2.0dev,>=1.33.2 in /Users/johnwatson/Documents/A Grad School/Hackathon/Clarkie/.conda/lib/python3.10/site-packages (from google-api-core[grpc]!=2.0.*,!=2.1.*,!=2.2.*,!=2.3.*,!=2.4.*,!=2.5.*,!=2.6.*,!=2.7.*,<3.0.0,>=1.34.1->google-cloud-aiplatform) (1.71.0)\n",
      "Requirement already satisfied: grpcio-status<2.0.dev0,>=1.33.2 in /Users/johnwatson/Documents/A Grad School/Hackathon/Clarkie/.conda/lib/python3.10/site-packages (from google-api-core[grpc]!=2.0.*,!=2.1.*,!=2.2.*,!=2.3.*,!=2.4.*,!=2.5.*,!=2.6.*,!=2.7.*,<3.0.0,>=1.34.1->google-cloud-aiplatform) (1.63.0rc1)\n",
      "Requirement already satisfied: cachetools<6.0,>=2.0.0 in /Users/johnwatson/Documents/A Grad School/Hackathon/Clarkie/.conda/lib/python3.10/site-packages (from google-auth<3.0.0,>=2.14.1->google-cloud-aiplatform) (5.5.2)\n",
      "Requirement already satisfied: pyasn1-modules>=0.2.1 in /Users/johnwatson/Documents/A Grad School/Hackathon/Clarkie/.conda/lib/python3.10/site-packages (from google-auth<3.0.0,>=2.14.1->google-cloud-aiplatform) (0.4.1)\n",
      "Requirement already satisfied: rsa<5,>=3.1.4 in /Users/johnwatson/Documents/A Grad School/Hackathon/Clarkie/.conda/lib/python3.10/site-packages (from google-auth<3.0.0,>=2.14.1->google-cloud-aiplatform) (4.9)\n",
      "Requirement already satisfied: google-cloud-core<3.0.0dev,>=2.4.1 in /Users/johnwatson/Documents/A Grad School/Hackathon/Clarkie/.conda/lib/python3.10/site-packages (from google-cloud-bigquery!=3.20.0,<4.0.0,>=1.15.0->google-cloud-aiplatform) (2.4.3)\n",
      "Requirement already satisfied: google-resumable-media<3.0dev,>=2.0.0 in /Users/johnwatson/Documents/A Grad School/Hackathon/Clarkie/.conda/lib/python3.10/site-packages (from google-cloud-bigquery!=3.20.0,<4.0.0,>=1.15.0->google-cloud-aiplatform) (2.7.2)\n",
      "Requirement already satisfied: python-dateutil<3.0dev,>=2.7.3 in /Users/johnwatson/Documents/A Grad School/Hackathon/Clarkie/.conda/lib/python3.10/site-packages (from google-cloud-bigquery!=3.20.0,<4.0.0,>=1.15.0->google-cloud-aiplatform) (2.9.0.post0)\n",
      "Requirement already satisfied: grpc-google-iam-v1<1.0.0,>=0.14.0 in /Users/johnwatson/Documents/A Grad School/Hackathon/Clarkie/.conda/lib/python3.10/site-packages (from google-cloud-resource-manager<3.0.0,>=1.3.3->google-cloud-aiplatform) (0.14.2)\n",
      "Requirement already satisfied: google-crc32c<2.0dev,>=1.0 in /Users/johnwatson/Documents/A Grad School/Hackathon/Clarkie/.conda/lib/python3.10/site-packages (from google-cloud-storage<3.0.0,>=1.32.0->google-cloud-aiplatform) (1.7.0)\n",
      "Requirement already satisfied: annotated-types>=0.6.0 in /Users/johnwatson/Documents/A Grad School/Hackathon/Clarkie/.conda/lib/python3.10/site-packages (from pydantic<3->google-cloud-aiplatform) (0.7.0)\n",
      "Requirement already satisfied: pydantic-core==2.27.2 in /Users/johnwatson/Documents/A Grad School/Hackathon/Clarkie/.conda/lib/python3.10/site-packages (from pydantic<3->google-cloud-aiplatform) (2.27.2)\n",
      "Requirement already satisfied: numpy<3,>=1.14 in /Users/johnwatson/Documents/A Grad School/Hackathon/Clarkie/.conda/lib/python3.10/site-packages (from shapely<3.0.0->google-cloud-aiplatform) (1.26.4)\n",
      "Requirement already satisfied: pyasn1<0.7.0,>=0.4.6 in /Users/johnwatson/Documents/A Grad School/Hackathon/Clarkie/.conda/lib/python3.10/site-packages (from pyasn1-modules>=0.2.1->google-auth<3.0.0,>=2.14.1->google-cloud-aiplatform) (0.6.1)\n",
      "Requirement already satisfied: six>=1.5 in /Users/johnwatson/Documents/A Grad School/Hackathon/Clarkie/.conda/lib/python3.10/site-packages (from python-dateutil<3.0dev,>=2.7.3->google-cloud-bigquery!=3.20.0,<4.0.0,>=1.15.0->google-cloud-aiplatform) (1.17.0)\n",
      "Requirement already satisfied: charset-normalizer<4,>=2 in /Users/johnwatson/Documents/A Grad School/Hackathon/Clarkie/.conda/lib/python3.10/site-packages (from requests<3.0.0,>=2.18.0->google-api-core!=2.0.*,!=2.1.*,!=2.2.*,!=2.3.*,!=2.4.*,!=2.5.*,!=2.6.*,!=2.7.*,<3.0.0,>=1.34.1->google-api-core[grpc]!=2.0.*,!=2.1.*,!=2.2.*,!=2.3.*,!=2.4.*,!=2.5.*,!=2.6.*,!=2.7.*,<3.0.0,>=1.34.1->google-cloud-aiplatform) (3.4.1)\n",
      "Requirement already satisfied: idna<4,>=2.5 in /Users/johnwatson/Documents/A Grad School/Hackathon/Clarkie/.conda/lib/python3.10/site-packages (from requests<3.0.0,>=2.18.0->google-api-core!=2.0.*,!=2.1.*,!=2.2.*,!=2.3.*,!=2.4.*,!=2.5.*,!=2.6.*,!=2.7.*,<3.0.0,>=1.34.1->google-api-core[grpc]!=2.0.*,!=2.1.*,!=2.2.*,!=2.3.*,!=2.4.*,!=2.5.*,!=2.6.*,!=2.7.*,<3.0.0,>=1.34.1->google-cloud-aiplatform) (3.10)\n",
      "Requirement already satisfied: urllib3<3,>=1.21.1 in /Users/johnwatson/Documents/A Grad School/Hackathon/Clarkie/.conda/lib/python3.10/site-packages (from requests<3.0.0,>=2.18.0->google-api-core!=2.0.*,!=2.1.*,!=2.2.*,!=2.3.*,!=2.4.*,!=2.5.*,!=2.6.*,!=2.7.*,<3.0.0,>=1.34.1->google-api-core[grpc]!=2.0.*,!=2.1.*,!=2.2.*,!=2.3.*,!=2.4.*,!=2.5.*,!=2.6.*,!=2.7.*,<3.0.0,>=1.34.1->google-cloud-aiplatform) (2.3.0)\n",
      "Requirement already satisfied: certifi>=2017.4.17 in /Users/johnwatson/Documents/A Grad School/Hackathon/Clarkie/.conda/lib/python3.10/site-packages (from requests<3.0.0,>=2.18.0->google-api-core!=2.0.*,!=2.1.*,!=2.2.*,!=2.3.*,!=2.4.*,!=2.5.*,!=2.6.*,!=2.7.*,<3.0.0,>=1.34.1->google-api-core[grpc]!=2.0.*,!=2.1.*,!=2.2.*,!=2.3.*,!=2.4.*,!=2.5.*,!=2.6.*,!=2.7.*,<3.0.0,>=1.34.1->google-cloud-aiplatform) (2025.1.31)\n",
      "Requirement already satisfied: google-cloud-dialogflow-cx in /Users/johnwatson/Documents/A Grad School/Hackathon/Clarkie/.conda/lib/python3.10/site-packages (1.41.0)\n",
      "Requirement already satisfied: google-api-core!=2.0.*,!=2.1.*,!=2.10.*,!=2.2.*,!=2.3.*,!=2.4.*,!=2.5.*,!=2.6.*,!=2.7.*,!=2.8.*,!=2.9.*,<3.0.0,>=1.34.1 in /Users/johnwatson/Documents/A Grad School/Hackathon/Clarkie/.conda/lib/python3.10/site-packages (from google-api-core[grpc]!=2.0.*,!=2.1.*,!=2.10.*,!=2.2.*,!=2.3.*,!=2.4.*,!=2.5.*,!=2.6.*,!=2.7.*,!=2.8.*,!=2.9.*,<3.0.0,>=1.34.1->google-cloud-dialogflow-cx) (2.24.2)\n",
      "Requirement already satisfied: google-auth!=2.24.0,!=2.25.0,<3.0.0,>=2.14.1 in /Users/johnwatson/Documents/A Grad School/Hackathon/Clarkie/.conda/lib/python3.10/site-packages (from google-cloud-dialogflow-cx) (2.38.0)\n",
      "Requirement already satisfied: proto-plus<2.0.0,>=1.22.3 in /Users/johnwatson/Documents/A Grad School/Hackathon/Clarkie/.conda/lib/python3.10/site-packages (from google-cloud-dialogflow-cx) (1.26.1)\n",
      "Requirement already satisfied: protobuf!=4.21.0,!=4.21.1,!=4.21.2,!=4.21.3,!=4.21.4,!=4.21.5,<7.0.0,>=3.20.2 in /Users/johnwatson/Documents/A Grad School/Hackathon/Clarkie/.conda/lib/python3.10/site-packages (from google-cloud-dialogflow-cx) (4.25.6)\n",
      "Requirement already satisfied: googleapis-common-protos<2.0.0,>=1.56.2 in /Users/johnwatson/Documents/A Grad School/Hackathon/Clarkie/.conda/lib/python3.10/site-packages (from google-api-core!=2.0.*,!=2.1.*,!=2.10.*,!=2.2.*,!=2.3.*,!=2.4.*,!=2.5.*,!=2.6.*,!=2.7.*,!=2.8.*,!=2.9.*,<3.0.0,>=1.34.1->google-api-core[grpc]!=2.0.*,!=2.1.*,!=2.10.*,!=2.2.*,!=2.3.*,!=2.4.*,!=2.5.*,!=2.6.*,!=2.7.*,!=2.8.*,!=2.9.*,<3.0.0,>=1.34.1->google-cloud-dialogflow-cx) (1.69.2)\n",
      "Requirement already satisfied: requests<3.0.0,>=2.18.0 in /Users/johnwatson/Documents/A Grad School/Hackathon/Clarkie/.conda/lib/python3.10/site-packages (from google-api-core!=2.0.*,!=2.1.*,!=2.10.*,!=2.2.*,!=2.3.*,!=2.4.*,!=2.5.*,!=2.6.*,!=2.7.*,!=2.8.*,!=2.9.*,<3.0.0,>=1.34.1->google-api-core[grpc]!=2.0.*,!=2.1.*,!=2.10.*,!=2.2.*,!=2.3.*,!=2.4.*,!=2.5.*,!=2.6.*,!=2.7.*,!=2.8.*,!=2.9.*,<3.0.0,>=1.34.1->google-cloud-dialogflow-cx) (2.32.3)\n",
      "Requirement already satisfied: grpcio<2.0dev,>=1.33.2 in /Users/johnwatson/Documents/A Grad School/Hackathon/Clarkie/.conda/lib/python3.10/site-packages (from google-api-core[grpc]!=2.0.*,!=2.1.*,!=2.10.*,!=2.2.*,!=2.3.*,!=2.4.*,!=2.5.*,!=2.6.*,!=2.7.*,!=2.8.*,!=2.9.*,<3.0.0,>=1.34.1->google-cloud-dialogflow-cx) (1.71.0)\n",
      "Requirement already satisfied: grpcio-status<2.0.dev0,>=1.33.2 in /Users/johnwatson/Documents/A Grad School/Hackathon/Clarkie/.conda/lib/python3.10/site-packages (from google-api-core[grpc]!=2.0.*,!=2.1.*,!=2.10.*,!=2.2.*,!=2.3.*,!=2.4.*,!=2.5.*,!=2.6.*,!=2.7.*,!=2.8.*,!=2.9.*,<3.0.0,>=1.34.1->google-cloud-dialogflow-cx) (1.63.0rc1)\n",
      "Requirement already satisfied: cachetools<6.0,>=2.0.0 in /Users/johnwatson/Documents/A Grad School/Hackathon/Clarkie/.conda/lib/python3.10/site-packages (from google-auth!=2.24.0,!=2.25.0,<3.0.0,>=2.14.1->google-cloud-dialogflow-cx) (5.5.2)\n",
      "Requirement already satisfied: pyasn1-modules>=0.2.1 in /Users/johnwatson/Documents/A Grad School/Hackathon/Clarkie/.conda/lib/python3.10/site-packages (from google-auth!=2.24.0,!=2.25.0,<3.0.0,>=2.14.1->google-cloud-dialogflow-cx) (0.4.1)\n",
      "Requirement already satisfied: rsa<5,>=3.1.4 in /Users/johnwatson/Documents/A Grad School/Hackathon/Clarkie/.conda/lib/python3.10/site-packages (from google-auth!=2.24.0,!=2.25.0,<3.0.0,>=2.14.1->google-cloud-dialogflow-cx) (4.9)\n",
      "Requirement already satisfied: pyasn1<0.7.0,>=0.4.6 in /Users/johnwatson/Documents/A Grad School/Hackathon/Clarkie/.conda/lib/python3.10/site-packages (from pyasn1-modules>=0.2.1->google-auth!=2.24.0,!=2.25.0,<3.0.0,>=2.14.1->google-cloud-dialogflow-cx) (0.6.1)\n",
      "Requirement already satisfied: charset-normalizer<4,>=2 in /Users/johnwatson/Documents/A Grad School/Hackathon/Clarkie/.conda/lib/python3.10/site-packages (from requests<3.0.0,>=2.18.0->google-api-core!=2.0.*,!=2.1.*,!=2.10.*,!=2.2.*,!=2.3.*,!=2.4.*,!=2.5.*,!=2.6.*,!=2.7.*,!=2.8.*,!=2.9.*,<3.0.0,>=1.34.1->google-api-core[grpc]!=2.0.*,!=2.1.*,!=2.10.*,!=2.2.*,!=2.3.*,!=2.4.*,!=2.5.*,!=2.6.*,!=2.7.*,!=2.8.*,!=2.9.*,<3.0.0,>=1.34.1->google-cloud-dialogflow-cx) (3.4.1)\n",
      "Requirement already satisfied: idna<4,>=2.5 in /Users/johnwatson/Documents/A Grad School/Hackathon/Clarkie/.conda/lib/python3.10/site-packages (from requests<3.0.0,>=2.18.0->google-api-core!=2.0.*,!=2.1.*,!=2.10.*,!=2.2.*,!=2.3.*,!=2.4.*,!=2.5.*,!=2.6.*,!=2.7.*,!=2.8.*,!=2.9.*,<3.0.0,>=1.34.1->google-api-core[grpc]!=2.0.*,!=2.1.*,!=2.10.*,!=2.2.*,!=2.3.*,!=2.4.*,!=2.5.*,!=2.6.*,!=2.7.*,!=2.8.*,!=2.9.*,<3.0.0,>=1.34.1->google-cloud-dialogflow-cx) (3.10)\n",
      "Requirement already satisfied: urllib3<3,>=1.21.1 in /Users/johnwatson/Documents/A Grad School/Hackathon/Clarkie/.conda/lib/python3.10/site-packages (from requests<3.0.0,>=2.18.0->google-api-core!=2.0.*,!=2.1.*,!=2.10.*,!=2.2.*,!=2.3.*,!=2.4.*,!=2.5.*,!=2.6.*,!=2.7.*,!=2.8.*,!=2.9.*,<3.0.0,>=1.34.1->google-api-core[grpc]!=2.0.*,!=2.1.*,!=2.10.*,!=2.2.*,!=2.3.*,!=2.4.*,!=2.5.*,!=2.6.*,!=2.7.*,!=2.8.*,!=2.9.*,<3.0.0,>=1.34.1->google-cloud-dialogflow-cx) (2.3.0)\n",
      "Requirement already satisfied: certifi>=2017.4.17 in /Users/johnwatson/Documents/A Grad School/Hackathon/Clarkie/.conda/lib/python3.10/site-packages (from requests<3.0.0,>=2.18.0->google-api-core!=2.0.*,!=2.1.*,!=2.10.*,!=2.2.*,!=2.3.*,!=2.4.*,!=2.5.*,!=2.6.*,!=2.7.*,!=2.8.*,!=2.9.*,<3.0.0,>=1.34.1->google-api-core[grpc]!=2.0.*,!=2.1.*,!=2.10.*,!=2.2.*,!=2.3.*,!=2.4.*,!=2.5.*,!=2.6.*,!=2.7.*,!=2.8.*,!=2.9.*,<3.0.0,>=1.34.1->google-cloud-dialogflow-cx) (2025.1.31)\n"
     ]
    }
   ],
   "source": [
    "!pip install --upgrade google-cloud-aiplatform\n",
    "!pip install ipywidgets --quiet\n",
    "!pip install google-cloud-dialogflow-cx\n",
    "\n"
   ]
  },
  {
   "cell_type": "code",
   "execution_count": null,
   "metadata": {},
   "outputs": [],
   "source": [
    "import os\n",
    "import uuid\n",
    "import ipywidgets as widgets\n",
    "from IPython.display import display, clear_output\n",
    "from google.cloud.dialogflowcx_v3.types import TextInput, QueryInput\n",
    "from google.cloud.dialogflowcx_v3.services.sessions import SessionsClient\n",
    "\n"
   ]
  },
  {
   "cell_type": "code",
   "execution_count": 24,
   "metadata": {},
   "outputs": [],
   "source": [
    "# 🔑 Path to your JSON key\n",
    "os.environ[\"GOOGLE_APPLICATION_CREDENTIALS\"] = \"/Users/johnwatson/Documents/A Grad School/Hackathon/Clarkie/hackathon-454621-40c3702ee8eb.json\"\n",
    "\n",
    "PROJECT_ID = \"hackathon-454621\"\n",
    "LOCATION   = \"us-central1\"\n",
    "AGENT_ID   = \"eba4b842-c371-47f7-b43e-3f7a710aa927\"\n",
    "SESSION_ID = str(uuid.uuid4())\n",
    "\n",
    "# Specify the correct regional endpoint\n",
    "client = SessionsClient(client_options={\"api_endpoint\": f\"{LOCATION}-dialogflow.googleapis.com\"})\n",
    "session = client.session_path(PROJECT_ID, LOCATION, AGENT_ID, SESSION_ID)\n",
    "\n",
    "def detect_intent_cx(text: str, language_code: str = \"en\"):\n",
    "    qi = QueryInput(text=TextInput(text=text), language_code=language_code)\n",
    "    response = client.detect_intent(request={\"session\": session, \"query_input\": qi})\n",
    "    # Extract text from response messages\n",
    "    if response.query_result.response_messages:\n",
    "        for message in response.query_result.response_messages:\n",
    "            if message.text:\n",
    "                return message.text.text[0]  # Return the first text response\n",
    "    return \"No response from agent\"\n"
   ]
  },
  {
   "cell_type": "code",
   "execution_count": 25,
   "metadata": {},
   "outputs": [
    {
     "name": "stderr",
     "output_type": "stream",
     "text": [
      "/var/folders/29/6zxrb1cx1k92z7w2f5cy2nd80000gn/T/ipykernel_91477/2088068905.py:22: DeprecationWarning: on_submit is deprecated. Instead, set the .continuous_update attribute to False and observe the value changing with: mywidget.observe(callback, 'value').\n",
      "  user_box.on_submit(on_submit)\n"
     ]
    },
    {
     "data": {
      "application/vnd.jupyter.widget-view+json": {
       "model_id": "1733cb6b37e94226938cdf865d8e1490",
       "version_major": 2,
       "version_minor": 0
      },
      "text/plain": [
       "Text(value='', description='You →', layout=Layout(width='100%'), placeholder='Type here and press Enter →')"
      ]
     },
     "metadata": {},
     "output_type": "display_data"
    },
    {
     "data": {
      "application/vnd.jupyter.widget-view+json": {
       "model_id": "a43340ceae4746ac8bcef639b39b1096",
       "version_major": 2,
       "version_minor": 0
      },
      "text/plain": [
       "Output(layout=Layout(border_bottom='1px solid #ccc', border_left='1px solid #ccc', border_right='1px solid #cc…"
      ]
     },
     "metadata": {},
     "output_type": "display_data"
    }
   ],
   "source": [
    "import ipywidgets as widgets\n",
    "from IPython.display import display, clear_output\n",
    "\n",
    "user_box = widgets.Text(\n",
    "    placeholder=\"Type here and press Enter →\",\n",
    "    description=\"You →\",\n",
    "    layout=widgets.Layout(width=\"100%\")\n",
    ")\n",
    "chat_output = widgets.Output(layout=widgets.Layout(border=\"1px solid #ccc\"))\n",
    "\n",
    "def on_submit(change):\n",
    "    with chat_output:\n",
    "        clear_output(wait=True)\n",
    "        msg = change.value.strip()\n",
    "        if not msg:\n",
    "            return\n",
    "        print(f\"You: {msg}\")\n",
    "        reply = detect_intent_cx(msg)\n",
    "        print(f\"Bot: {reply}\\n\")\n",
    "        user_box.value = \"\"\n",
    "\n",
    "user_box.on_submit(on_submit)\n",
    "display(user_box, chat_output)\n"
   ]
  }
 ],
 "metadata": {
  "kernelspec": {
   "display_name": "Python 3",
   "language": "python",
   "name": "python3"
  },
  "language_info": {
   "codemirror_mode": {
    "name": "ipython",
    "version": 3
   },
   "file_extension": ".py",
   "mimetype": "text/x-python",
   "name": "python",
   "nbconvert_exporter": "python",
   "pygments_lexer": "ipython3",
   "version": "3.10.16"
  }
 },
 "nbformat": 4,
 "nbformat_minor": 2
}
