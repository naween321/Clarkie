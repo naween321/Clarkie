{
 "cells": [
  {
   "cell_type": "markdown",
   "metadata": {},
   "source": [
    "# LLM Based Web Scraping of Clark U websites"
   ]
  },
  {
   "cell_type": "markdown",
   "metadata": {},
   "source": [
    "## Import Libraries"
   ]
  },
  {
   "cell_type": "code",
   "execution_count": 8,
   "metadata": {},
   "outputs": [],
   "source": [
    "import nest_asyncio\n",
    "nest_asyncio.apply()  # Patch asyncio for Jupyter\n",
    "\n",
    "\n",
    "import json\n",
    "from urllib.parse import urlparse\n",
    "import os\n",
    "from dotenv import load_dotenv\n",
    "from bs4 import BeautifulSoup\n",
    "from typing import Optional  # Added missing import\n",
    "import numpy as np\n",
    "from IPython.display import Audio, display\n",
    "\n",
    "\n",
    "from scrapegraphai.graphs import DepthSearchGraph\n",
    "\n",
    "# Load environment variables\n",
    "load_dotenv()\n",
    "# Set TOKENIZERS_PARALLELISM explicitly to avoid warnings\n",
    "os.environ[\"TOKENIZERS_PARALLELISM\"] = \"false\""
   ]
  },
  {
   "cell_type": "markdown",
   "metadata": {},
   "source": [
    "## LLM Setup"
   ]
  },
  {
   "cell_type": "code",
   "execution_count": 9,
   "metadata": {},
   "outputs": [],
   "source": [
    "# gemini_key = os.getenv('GEMINI_KEY')\n",
    "# hf_api_token = os.getenv('HUGGINGFACEHUB_API_TOKEN')\n",
    "openai_key = os.getenv('OPENAI_API_KEY')\n",
    "\n",
    "# Define the configuration for the graph\n",
    "graph_config = {\n",
    "    \"llm\": {\n",
    "        \"api_key\": openai_key,\n",
    "        \"model\": \"openai/gpt-4o-mini\",\n",
    "        \"temperature\": 0,\n",
    "    },\n",
    "    \"verbose\": True,\n",
    "    \"headless\": True,\n",
    "    \"depth\": 50,              # Reduced depth for testing\n",
    "    \"only_inside_links\": True  # Only follow links inside the same domain\n",
    "}"
   ]
  },
  {
   "cell_type": "markdown",
   "metadata": {},
   "source": [
    "## Main Code Execution"
   ]
  },
  {
   "cell_type": "code",
   "execution_count": null,
   "metadata": {},
   "outputs": [
    {
     "ename": "TypeError",
     "evalue": "DepthSearchGraph.__init__() missing 3 required positional arguments: 'prompt', 'source', and 'config'",
     "output_type": "error",
     "traceback": [
      "\u001b[0;31m---------------------------------------------------------------------------\u001b[0m",
      "\u001b[0;31mTypeError\u001b[0m                                 Traceback (most recent call last)",
      "Cell \u001b[0;32mIn[10], line 3\u001b[0m\n\u001b[1;32m      1\u001b[0m \u001b[38;5;28;01mfrom\u001b[39;00m\u001b[38;5;250m \u001b[39m\u001b[38;5;21;01mscrapegraphai\u001b[39;00m\u001b[38;5;21;01m.\u001b[39;00m\u001b[38;5;21;01mgraphs\u001b[39;00m\u001b[38;5;250m \u001b[39m\u001b[38;5;28;01mimport\u001b[39;00m DepthSearchGraph\n\u001b[0;32m----> 3\u001b[0m graph \u001b[38;5;241m=\u001b[39m \u001b[43mDepthSearchGraph\u001b[49m\u001b[43m(\u001b[49m\u001b[43m)\u001b[49m\n\u001b[1;32m      4\u001b[0m results \u001b[38;5;241m=\u001b[39m graph\u001b[38;5;241m.\u001b[39msearch(\u001b[38;5;124m\"\u001b[39m\u001b[38;5;124mhttps://www.clarku.edu/academics/majors-and-minors/\u001b[39m\u001b[38;5;124m\"\u001b[39m, depth\u001b[38;5;241m=\u001b[39m\u001b[38;5;241m20\u001b[39m)\n",
      "\u001b[0;31mTypeError\u001b[0m: DepthSearchGraph.__init__() missing 3 required positional arguments: 'prompt', 'source', and 'config'"
     ]
    }
   ],
   "source": [
    "from scrapegraphai.graphs import DepthSearchGraph\n",
    "\n",
    "graph = DepthSearchGraph(\n",
    "    config=graph_config,\n",
    "    verbose=True\n",
    "    prompt=\"What are the majors and minors offered at Clark University and What are the requirements for each major and minor?\"\n",
    ")\n",
    "results = graph.search(\"https://www.clarku.edu/academics/majors-and-minors/\", depth=30)"
   ]
  }
 ],
 "metadata": {
  "kernelspec": {
   "display_name": "Python 3",
   "language": "python",
   "name": "python3"
  },
  "language_info": {
   "codemirror_mode": {
    "name": "ipython",
    "version": 3
   },
   "file_extension": ".py",
   "mimetype": "text/x-python",
   "name": "python",
   "nbconvert_exporter": "python",
   "pygments_lexer": "ipython3",
   "version": "3.10.16"
  }
 },
 "nbformat": 4,
 "nbformat_minor": 2
}
