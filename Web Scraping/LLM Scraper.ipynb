{
 "cells": [
  {
   "cell_type": "markdown",
   "metadata": {},
   "source": [
    "# LLM Based Web Scraping of Clark U websites"
   ]
  },
  {
   "cell_type": "markdown",
   "metadata": {},
   "source": [
    "## Import Libraries"
   ]
  },
  {
   "cell_type": "code",
   "execution_count": 39,
   "metadata": {},
   "outputs": [
    {
     "ename": "ModuleNotFoundError",
     "evalue": "No module named 'google.colab'",
     "output_type": "error",
     "traceback": [
      "\u001b[0;31m---------------------------------------------------------------------------\u001b[0m",
      "\u001b[0;31mModuleNotFoundError\u001b[0m                       Traceback (most recent call last)",
      "Cell \u001b[0;32mIn[39], line 1\u001b[0m\n\u001b[0;32m----> 1\u001b[0m \u001b[38;5;28;01mfrom\u001b[39;00m\u001b[38;5;250m \u001b[39m\u001b[38;5;21;01mgoogle\u001b[39;00m\u001b[38;5;21;01m.\u001b[39;00m\u001b[38;5;21;01mcolab\u001b[39;00m\u001b[38;5;250m \u001b[39m\u001b[38;5;28;01mimport\u001b[39;00m auth\n\u001b[1;32m      2\u001b[0m auth\u001b[38;5;241m.\u001b[39mauthenticate_user()\n",
      "\u001b[0;31mModuleNotFoundError\u001b[0m: No module named 'google.colab'"
     ]
    }
   ],
   "source": [
    "from google.colab import auth\n",
    "auth.authenticate_user()"
   ]
  },
  {
   "cell_type": "code",
   "execution_count": null,
   "metadata": {},
   "outputs": [
    {
     "ename": "ModuleNotFoundError",
     "evalue": "No module named 'google.colab'",
     "output_type": "error",
     "traceback": [
      "\u001b[0;31m---------------------------------------------------------------------------\u001b[0m",
      "\u001b[0;31mModuleNotFoundError\u001b[0m                       Traceback (most recent call last)",
      "Cell \u001b[0;32mIn[38], line 2\u001b[0m\n\u001b[1;32m      1\u001b[0m \u001b[38;5;66;03m# 1️⃣ Authenticate + imports\u001b[39;00m\n\u001b[0;32m----> 2\u001b[0m \u001b[38;5;28;01mfrom\u001b[39;00m\u001b[38;5;250m \u001b[39m\u001b[38;5;21;01mgoogle\u001b[39;00m\u001b[38;5;21;01m.\u001b[39;00m\u001b[38;5;21;01mcolab\u001b[39;00m\u001b[38;5;250m \u001b[39m\u001b[38;5;28;01mimport\u001b[39;00m auth\n\u001b[1;32m      3\u001b[0m auth\u001b[38;5;241m.\u001b[39mauthenticate_user()\n\u001b[1;32m      5\u001b[0m PROJECT_ID \u001b[38;5;241m=\u001b[39m \u001b[38;5;124m\"\u001b[39m\u001b[38;5;124mhackathon-454621\u001b[39m\u001b[38;5;124m\"\u001b[39m\n",
      "\u001b[0;31mModuleNotFoundError\u001b[0m: No module named 'google.colab'"
     ]
    }
   ],
   "source": [
    "# Import required libraries for the ScriptCreatorGraph\n",
    "import os\n",
    "from scrapegraphai.graphs import ScriptCreatorGraph, SearchGraph\n",
    "\n",
    "# The following code is specific to Google Colab and GCP\n",
    "# Uncomment if running in Google Colab environment\n",
    "\n",
    "'''\n",
    "PROJECT_ID = \"hackathon-454621\"\n",
    "BUCKET_NAME = \"course_information\"\n",
    "\n",
    "from google.cloud import storage\n",
    "import subprocess, os\n",
    "\n",
    "storage_client = storage.Client(project=PROJECT_ID)\n",
    "\n",
    "def upload_to_bucket(bucket_name: str, destination_blob_name: str, local_file_path: str):\n",
    "    bucket = storage_client.bucket(bucket_name)\n",
    "    blob = bucket.blob(destination_blob_name)\n",
    "    blob.upload_from_filename(local_file_path)\n",
    "    print(f\"✅ Uploaded {destination_blob_name} to gs://{bucket_name}/\")\n",
    "\n",
    "# 2️⃣ Install HTTrack\n",
    "print(\"🔧 Installing HTTrack…\")\n",
    "subprocess.run([\"apt-get\", \"update\"], check=True, stdout=subprocess.DEVNULL)\n",
    "subprocess.run([\"apt-get\", \"install\", \"-y\", \"httrack\"], check=True)\n",
    "\n",
    "# 3️⃣ Mirror site into local temp directory\n",
    "URL = \"https://www.clarku.edu/academics/majors-and-minors/\"            # ← CHANGE to your target\n",
    "LOCAL_DIR = \"/content/htmirror\"        # temporary local staging\n",
    "\n",
    "# Filters: only HTML pages + links; exclude images/docs/etc.\n",
    "filters = [\n",
    "    f\"+*{URL}*\",\n",
    "    \"-*.jpg\", \"-*.jpeg\", \"-*.png\", \"-*.gif\", \"-*.svg\",\n",
    "    \"-*.css\", \"-*.js\", \"-*.ico\",\n",
    "    \"-*.pdf\", \"-*.doc*\", \"-*.xls*\", \"-*.ppt*\", \"-*.zip\", \"-*.mp4\", \"-*.mp3\"\n",
    "]\n",
    "\n",
    "cmd = [\"httrack\", URL, \"-O\", LOCAL_DIR] + filters + [\"-v\"]\n",
    "print(\"🌐 Running HTTrack…\")\n",
    "subprocess.run(cmd, check=True)\n",
    "\n",
    "# 4️⃣ Walk local mirror and upload every file to GCS\n",
    "print(\"📤 Uploading files to GCS…\")\n",
    "for root, _, files in os.walk(LOCAL_DIR):\n",
    "    for filename in files:\n",
    "        local_path = os.path.join(root, filename)\n",
    "        # strip the base mirror directory to preserve structure\n",
    "        blob_name = os.path.relpath(local_path, LOCAL_DIR)\n",
    "        upload_to_bucket(BUCKET_NAME, blob_name, local_path)\n",
    "\n",
    "print(\"🎉 All done! Your website mirror is now in gs://{}/\".format(BUCKET_NAME))\n",
    "'''"
   ]
  },
  {
   "cell_type": "markdown",
   "metadata": {},
   "source": [
    "## LLM Setup"
   ]
  },
  {
   "cell_type": "code",
   "execution_count": 35,
   "metadata": {},
   "outputs": [],
   "source": [
    "# gemini_key = os.getenv('GEMINI_KEY')\n",
    "# hf_api_token = os.getenv('HUGGINGFACEHUB_API_TOKEN')\n",
    "openai_key = os.getenv('OPENAI_API_KEY')\n",
    "\n",
    "# Define the configuration for the graph\n",
    "graph_config = {\n",
    "    \"llm\": {\n",
    "        \"api_key\": openai_key,\n",
    "        \"model\": \"openai/gpt-4o-mini\",\n",
    "    },\n",
    "    \"verbose\": True,\n",
    "    \"headless\": True,         # Reduced depth for testing\n",
    "    \"library\": \"playwright\",  # Add the required library key\n",
    "}"
   ]
  },
  {
   "cell_type": "markdown",
   "metadata": {},
   "source": [
    "## Main Code Execution"
   ]
  },
  {
   "cell_type": "code",
   "execution_count": 36,
   "metadata": {},
   "outputs": [
    {
     "name": "stderr",
     "output_type": "stream",
     "text": [
      "--- Executing Fetch Node ---\n",
      "--- (Fetching HTML from: http://www.clarku.edu/academics/majors-and-minors/) ---\n",
      "--- Executing ParseNode Node ---\n",
      "--- Executing GenerateScraper Node ---\n"
     ]
    }
   ],
   "source": [
    "script_creator_graph = ScriptCreatorGraph(\n",
    "   prompt=\"Create a python Script to get all Majors and Minors offered by clark university as well as the reuirements for each\",\n",
    "   source=\"http://www.clarku.edu/academics/majors-and-minors/\",\n",
    "   config=graph_config,\n",
    ")\n",
    "\n",
    "\n",
    "\n",
    "# Create the SearchGraph instance\n",
    "# search_graph = SearchGraph(\n",
    "#    prompt=\"What are the all the majors and minors offered at Clark University and What are all requirements for each major and minor?\",\n",
    "#    config=graph_config,\n",
    "# )\n",
    "\n",
    "result = script_creator_graph.run()\n"
   ]
  },
  {
   "cell_type": "code",
   "execution_count": 37,
   "metadata": {},
   "outputs": [
    {
     "name": "stdout",
     "output_type": "stream",
     "text": [
      "```python\n",
      "import asyncio\n",
      "from playwright.async_api import async_playwright\n",
      "import json\n",
      "import re\n",
      "\n",
      "async def main():\n",
      "    async with async_playwright() as p:\n",
      "        browser = await p.chromium.launch()\n",
      "        page = await browser.new_page()\n",
      "        await page.goto(\"http://www.clarku.edu/academics/majors-and-minors/\")\n",
      "        \n",
      "        content = await page.content()\n",
      "        \n",
      "        majors_and_minors = []\n",
      "        \n",
      "        # Regex to find major and minor details from the page content\n",
      "        program_pattern = re.compile(r'<h3 class=\"program-finder__program-value program__title\">(.*?)<\\/h3>.*?<h3 class=\"program-finder__program-value program__degree\">(.*?)<\\/h3>', re.DOTALL)\n",
      "        programs = program_pattern.findall(content)\n",
      "\n",
      "        for program in programs:\n",
      "            title, degree = program\n",
      "            majors_and_minors.append({\n",
      "                \"title\": title.strip(),\n",
      "                \"degree\": degree.strip()\n",
      "            })\n",
      "        \n",
      "        await browser.close()\n",
      "        \n",
      "        print(json.dumps(majors_and_minors, indent=4))\n",
      "\n",
      "asyncio.run(main())\n",
      "```\n"
     ]
    }
   ],
   "source": [
    "print(result)\n"
   ]
  }
 ],
 "metadata": {
  "kernelspec": {
   "display_name": "Python 3",
   "language": "python",
   "name": "python3"
  },
  "language_info": {
   "codemirror_mode": {
    "name": "ipython",
    "version": 3
   },
   "file_extension": ".py",
   "mimetype": "text/x-python",
   "name": "python",
   "nbconvert_exporter": "python",
   "pygments_lexer": "ipython3",
   "version": "3.10.16"
  }
 },
 "nbformat": 4,
 "nbformat_minor": 2
}
